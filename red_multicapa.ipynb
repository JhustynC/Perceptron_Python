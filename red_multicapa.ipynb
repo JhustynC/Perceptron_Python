{
 "cells": [
  {
   "cell_type": "code",
   "execution_count": 2,
   "metadata": {},
   "outputs": [],
   "source": [
    "import numpy as np\n",
    "import pandas as pd\n",
    "import matplotlib.pyplot as plt\n",
    "import tensorflow as tf\n",
    "from tensorflow.keras import Sequential\n",
    "from tensorflow.keras.layers import Dense\n",
    "from tensorflow.keras.utils import to_categorical"
   ]
  },
  {
   "cell_type": "code",
   "execution_count": 3,
   "metadata": {},
   "outputs": [],
   "source": [
    "def load_dataset(csv_path):\n",
    "    try:\n",
    "        data = pd.read_csv(csv_path)\n",
    "    except FileNotFoundError:\n",
    "        print(\"Error: El archivo no se encontró.\")\n",
    "        return None, None\n",
    "    except pd.errors.EmptyDataError:\n",
    "        print(\"Error: El archivo está vacío.\")\n",
    "        return None, None\n",
    "    except pd.errors.ParserError:\n",
    "        print(\"Error: Error al analizar el archivo.\")\n",
    "        return None, None\n",
    "    \n",
    "    X = data.iloc[:, :-1].values\n",
    "    y = data.iloc[:, -1].values\n",
    "    return X, y\n"
   ]
  },
  {
   "cell_type": "code",
   "execution_count": 4,
   "metadata": {},
   "outputs": [
    {
     "name": "stdout",
     "output_type": "stream",
     "text": [
      "Número de características: 25\n"
     ]
    }
   ],
   "source": [
    "csv_path = input(\"Ingrese el path del dataset CSV: \") \n",
    "csv_path = f'CSV/{csv_path}'\n",
    "X, y = load_dataset(csv_path)\n",
    "\n",
    "if X is None or y is None:\n",
    "    print(\"No se pudo cargar el dataset. Saliendo...\")\n",
    "    exit()\n",
    "\n",
    "_, num_caracteristicas = X.shape\n",
    "\n",
    "print(\"Número de características:\", num_caracteristicas)"
   ]
  },
  {
   "cell_type": "code",
   "execution_count": 7,
   "metadata": {},
   "outputs": [
    {
     "name": "stdout",
     "output_type": "stream",
     "text": [
      "Empieza el entrenamiento...\n",
      "Modelo entrenado\n"
     ]
    },
    {
     "data": {
      "image/png": "[encoded data removed]",
      "text/plain": [
       "<Figure size 640x480 with 1 Axes>"
      ]
     },
     "metadata": {},
     "output_type": "display_data"
    }
   ],
   "source": [
    "# Definición del modelo con 5 salidas\n",
    "model = Sequential([\n",
    "    Dense(units=64, activation='relu', input_shape=[num_caracteristicas]),\n",
    "    Dense(units=64, activation='relu'),\n",
    "    # Cambia el número de unidades a 5 para la salida\n",
    "    # Dense(units=1)\n",
    "    Dense(units=5, activation='sigmoid')  # Cambia a 2 unidades aquí\n",
    "    # Dense(units=5, activation='softmax')  # Asegúrate de tener 5 unidades aquí\n",
    "])\n",
    "\n",
    "model.compile(\n",
    "    optimizer=tf.keras.optimizers.Adam(0.01),\n",
    "    # loss='mean_squared_error',\n",
    "    loss='binary_crossentropy',  # Usa 'binary_crossentropy' para clasificación binaria\n",
    "    # loss='categorical_crossentropy',  # Si es clasificación multiclase, usa 'categorical_crossentropy'\n",
    "    metrics=['accuracy']\n",
    ")\n",
    "\n",
    "# Suponiendo que 'y' contiene enteros de clases desde 0 hasta 4\n",
    "y_one_hot = to_categorical(y, num_classes=5)\n",
    "# y_one_hot = to_categorical(y, num_classes=2)\n",
    "\n",
    "# Ahora puedes entrenar el modelo con las etiquetas en formato one-hot\n",
    "print('Empieza el entrenamiento...')\n",
    "historial = model.fit(X, y_one_hot, epochs=1000, verbose=False)\n",
    "# historial = model.fit(X, y, epochs=1000, verbose=False)\n",
    "print('Modelo entrenado')\n",
    "\n",
    "plt.xlabel('# Época')\n",
    "plt.ylabel('Magnitud de pérdida')\n",
    "plt.plot(historial.history['loss'])\n",
    "plt.show()"
   ]
  },
  {
   "cell_type": "code",
   "execution_count": 8,
   "metadata": {},
   "outputs": [
    {
     "name": "stdout",
     "output_type": "stream",
     "text": [
      "Prediccion\n",
      "\u001b[1m1/1\u001b[0m \u001b[32m━━━━━━━━━━━━━━━━━━━━\u001b[0m\u001b[37m\u001b[0m \u001b[1m0s\u001b[0m 31ms/step\n",
      "Entrada: [0 1 0 1 0 1 0 0 0 1 1 1 1 1 1 1 0 0 0 1 1 0 0 0 1], Predicción: [1. 0. 0. 0. 0.], Valor real: [1. 0. 0. 0. 0.] \n",
      "Entrada: [1 1 0 1 1 1 0 0 0 0 1 1 1 1 0 1 0 0 0 0 1 1 1 1 1], Predicción: [0. 1. 0. 0. 0.], Valor real: [0. 1. 0. 0. 0.] \n",
      "Entrada: [1 1 0 1 1 0 0 1 0 0 0 0 1 0 0 0 0 1 0 0 1 1 1 1 1], Predicción: [0. 0. 1. 0. 0.], Valor real: [0. 0. 1. 0. 0.] \n",
      "Entrada: [0 1 0 1 0 1 0 0 0 1 1 0 0 0 1 1 0 0 0 1 0 1 1 1 0], Predicción: [0. 0. 0. 1. 0.], Valor real: [0. 0. 0. 1. 0.] \n",
      "Entrada: [1 0 1 0 1 1 0 0 0 1 1 0 0 0 1 1 0 0 0 1 0 1 1 1 0], Predicción: [0. 0. 0. 0. 1.], Valor real: [0. 0. 0. 0. 1.] \n"
     ]
    }
   ],
   "source": [
    "# Hacer predicciones\n",
    "print('Prediccion')\n",
    "# csv_path = input(\"Ingrese el path del dataset CSV: \") \n",
    "# csv_path = f'CSV/{csv_path}'\n",
    "csv_path = f'CSV/vocalest.csv'\n",
    "X_test, y_test = load_dataset(csv_path)\n",
    "\n",
    "# Suponiendo que 'y' contiene enteros de clases desde 0 hasta 4\n",
    "y_test_one_hot = to_categorical(y, num_classes=5)\n",
    "\n",
    "#Predecir\n",
    "predicciones = model.predict(X_test)\n",
    "\n",
    "# Convertir las probabilidades en etiquetas de clase\n",
    "etiquetas_predichas = np.argmax(predicciones, axis=1)\n",
    "\n",
    "predicciones_one_hot = to_categorical(etiquetas_predichas, num_classes=5)\n",
    "\n",
    "# Imprimir las predicciones en formato one-hot\n",
    "for i, prediccion in enumerate(predicciones_one_hot):\n",
    "    print(f\"Entrada: {X_test[i]}, Predicción: {prediccion}, Valor real: {y_test_one_hot[i]} \")"
   ]
  }
 ],
 "metadata": {
  "kernelspec": {
   "display_name": "venv",
   "language": "python",
   "name": "python3"
  },
  "language_info": {
   "codemirror_mode": {
    "name": "ipython",
    "version": 3
   },
   "file_extension": ".py",
   "mimetype": "text/x-python",
   "name": "python",
   "nbconvert_exporter": "python",
   "pygments_lexer": "ipython3",
   "version": "3.11.4"
  }
 },
 "nbformat": 4,
 "nbformat_minor": 2
}
